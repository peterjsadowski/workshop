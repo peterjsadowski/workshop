{
  "cells": [
    {
      "cell_type": "markdown",
      "metadata": {
        "id": "view-in-github",
        "colab_type": "text"
      },
      "source": [
        "<a href=\"https://colab.research.google.com/github/hawaii-ai/tutorial_climate_ai/blob/main/02_classify_ENSO.ipynb\" target=\"_parent\"><img src=\"https://colab.research.google.com/assets/colab-badge.svg\" alt=\"Open In Colab\"/></a>"
      ]
    },
    {
      "cell_type": "markdown",
      "metadata": {
        "id": "zL3Ldy7A6Ycl"
      },
      "source": [
        "# ENSO Phase Prediction with Deep Learning"
      ]
    },
    {
      "cell_type": "markdown",
      "metadata": {
        "id": "_qS74CLw6Ycn"
      },
      "source": [
        "## Import Libraries"
      ]
    },
    {
      "cell_type": "code",
      "execution_count": null,
      "metadata": {
        "id": "EImUVsNx6Ycn"
      },
      "outputs": [],
      "source": [
        "import matplotlib.pyplot as plt\n",
        "import pandas as pd\n",
        "import torch\n",
        "import torch.nn as nn\n",
        "import xarray as xr\n",
        "from torch.utils.data import DataLoader"
      ]
    },
    {
      "cell_type": "code",
      "execution_count": null,
      "metadata": {
        "id": "Hkq_L8L-6Yco"
      },
      "outputs": [],
      "source": [
        "torch.device(\n",
        "    \"cuda\"\n",
        "    if torch.cuda.is_available()\n",
        "    else \"mps\"\n",
        "    if torch.backends.mps.is_available()\n",
        "    else \"cpu\"\n",
        ")"
      ]
    },
    {
      "cell_type": "markdown",
      "metadata": {
        "id": "v23fffGu6Ycp"
      },
      "source": [
        "## Download and Preprocess Data"
      ]
    },
    {
      "cell_type": "code",
      "execution_count": null,
      "metadata": {
        "id": "w1jZTtPN6Ycp"
      },
      "outputs": [],
      "source": [
        "netcdf_file = xr.open_dataset(\"data/ersst_pacific_anom.nc\")\n",
        "netcdf_file"
      ]
    },
    {
      "cell_type": "code",
      "execution_count": null,
      "metadata": {
        "id": "nbXgtqTh6Ycs"
      },
      "outputs": [],
      "source": [
        "ssta = (\n",
        "    netcdf_file.ssta.expand_dims(\"channel\")\n",
        "    .transpose(\"time\", \"channel\", \"lat\", \"lon\")\n",
        "    .fillna(0)\n",
        ")\n",
        "ssta"
      ]
    },
    {
      "cell_type": "code",
      "execution_count": null,
      "metadata": {
        "id": "MPDdI-zX6Ycs"
      },
      "outputs": [],
      "source": [
        "labels_df = pd.read_csv(\"data/labels.csv\")\n",
        "labels_df"
      ]
    },
    {
      "cell_type": "code",
      "execution_count": null,
      "metadata": {
        "id": "LeClgdT56Ycs"
      },
      "outputs": [],
      "source": [
        "one_hot_labels = nn.functional.one_hot(\n",
        "    torch.from_numpy(labels_df[[\"lead_1\", \"lead_2\", \"lead_3\"]].values).long(),\n",
        "    num_classes=3,\n",
        ").float()"
      ]
    },
    {
      "cell_type": "markdown",
      "metadata": {
        "id": "4tiKsF4B6Ycs"
      },
      "source": [
        "## Define the Training Set"
      ]
    },
    {
      "cell_type": "code",
      "execution_count": null,
      "metadata": {
        "id": "elqfisDV6Yct"
      },
      "outputs": [],
      "source": [
        "# now we have to create a dataset that can be used by pytorch\n",
        "\n",
        "class ENSODataset(torch.utils.data.Dataset):\n",
        "    def __init__(self, ssta, labels):\n",
        "        self.ssta = ssta\n",
        "        self.labels = labels\n",
        "\n",
        "    def __len__(self):\n",
        "        return len(self.ssta)\n",
        "\n",
        "    def __getitem__(self, idx):\n",
        "        return self.ssta[idx], self.labels[idx]\n",
        "\n",
        "\n",
        "# we will use the first 80% of the data for training and the last 20% for testing\n",
        "train_size = int(0.8 * len(ssta))\n",
        "\n",
        "train_dataset = ENSODataset(ssta[:train_size].data.copy(), one_hot_labels[:train_size])\n",
        "test_dataset = ENSODataset(ssta[train_size:].data.copy(), one_hot_labels[train_size:])"
      ]
    },
    {
      "cell_type": "code",
      "execution_count": null,
      "metadata": {
        "id": "VzA0r-0E6Yct"
      },
      "outputs": [],
      "source": [
        "# build the dataloaders\n",
        "\n",
        "train_dataloader = DataLoader(train_dataset, batch_size=32, shuffle=True)\n",
        "test_dataloader = DataLoader(test_dataset, batch_size=32)"
      ]
    },
    {
      "cell_type": "markdown",
      "metadata": {
        "id": "uv5iK3P86Yct"
      },
      "source": [
        "## Defining the Model"
      ]
    },
    {
      "cell_type": "code",
      "execution_count": null,
      "metadata": {
        "id": "SQrMVnTn6Yct"
      },
      "outputs": [],
      "source": [
        "class ENSOModel(nn.Module):\n",
        "    def __init__(self):\n",
        "        super().__init__()\n",
        "        self.conv1 = nn.Conv2d(1, 6, 3)\n",
        "        self.pool = nn.MaxPool2d(2, 2)\n",
        "        self.conv2 = nn.Conv2d(6, 16, 3)\n",
        "        self.fc1 = nn.Linear(16 * 8 * 20, 120)\n",
        "        self.fc2 = nn.Linear(120, 84)\n",
        "        self.fc3 = nn.Linear(84, 3)\n",
        "\n",
        "    def forward(self, x):\n",
        "        x = self.pool(torch.relu(self.conv1(x)))\n",
        "        x = self.pool(torch.relu(self.conv2(x)))\n",
        "        x = torch.flatten(x, 1)  # flatten all dimensions except batch\n",
        "        x = torch.relu(self.fc1(x))\n",
        "        x = torch.relu(self.fc2(x))\n",
        "\n",
        "        x_lead_1 = self.fc3(x)\n",
        "        x_lead_2 = self.fc3(x)\n",
        "        x_lead_3 = self.fc3(x)\n",
        "\n",
        "        return x_lead_1, x_lead_2, x_lead_3"
      ]
    },
    {
      "cell_type": "markdown",
      "metadata": {
        "id": "I3yMRUy_6Yct"
      },
      "source": [
        "## Training the Model"
      ]
    },
    {
      "cell_type": "code",
      "execution_count": null,
      "metadata": {
        "id": "xiwkeVS06Yct"
      },
      "outputs": [],
      "source": [
        "model = ENSOModel()\n",
        "\n",
        "# define the loss function and optimizer\n",
        "loss_fn = nn.CrossEntropyLoss()\n",
        "optimizer = torch.optim.SGD(model.parameters(), lr=0.001, momentum=0.9)\n",
        "\n",
        "# train the model\n",
        "epochs = 60\n",
        "train_loss = []\n",
        "\n",
        "for epoch in range(epochs):\n",
        "    epoch_loss = []\n",
        "\n",
        "    model.train()\n",
        "\n",
        "    for batch_idx, (data, target) in enumerate(train_dataloader):\n",
        "        optimizer.zero_grad()\n",
        "\n",
        "        # forward + backward + optimize\n",
        "        output_lead_1, output_lead_2, output_lead_3 = model(data)\n",
        "        loss = (\n",
        "            loss_fn(output_lead_1, target[:, 0])\n",
        "            + loss_fn(output_lead_2, target[:, 1])\n",
        "            + loss_fn(output_lead_3, target[:, 2])\n",
        "        )\n",
        "\n",
        "        epoch_loss.append(loss.item() * data.size(0))\n",
        "\n",
        "        loss.backward()\n",
        "        optimizer.step()\n",
        "\n",
        "        # print statistics\n",
        "        if batch_idx % 400 == 0:\n",
        "            print(f\"Epoch: {epoch}, Batch: {batch_idx}, Loss: {loss.item()}\")\n",
        "    train_loss.append(sum(epoch_loss) / len(train_dataset))"
      ]
    },
    {
      "cell_type": "code",
      "execution_count": null,
      "metadata": {
        "id": "gBsPbDL66Yct"
      },
      "outputs": [],
      "source": [
        "# plot the training loss\n",
        "plt.plot(train_loss)\n",
        "plt.title(\"Training Loss\")\n",
        "plt.xlabel(\"Epoch\")\n",
        "plt.ylabel(\"Loss\")\n",
        "plt.show()"
      ]
    },
    {
      "cell_type": "markdown",
      "metadata": {
        "id": "EPNdAxPP6Yct"
      },
      "source": [
        "## Evaluating the Model"
      ]
    },
    {
      "cell_type": "code",
      "execution_count": null,
      "metadata": {
        "id": "uxGjpYiG6Ycu"
      },
      "outputs": [],
      "source": [
        "model.eval()\n",
        "\n",
        "# test the accuracy per lead\n",
        "\n",
        "correct_lead_1 = 0\n",
        "correct_lead_2 = 0\n",
        "correct_lead_3 = 0\n",
        "\n",
        "with torch.no_grad():\n",
        "    for data, target in test_dataloader:\n",
        "        output_lead_1, output_lead_2, output_lead_3 = model(data)\n",
        "\n",
        "        _, predicted_lead_1 = torch.max(output_lead_1.data, 1)\n",
        "        _, predicted_lead_2 = torch.max(output_lead_2.data, 1)\n",
        "        _, predicted_lead_3 = torch.max(output_lead_3.data, 1)\n",
        "\n",
        "        _, target_lead_1 = torch.max(target[:, 0], 1)\n",
        "        _, target_lead_2 = torch.max(target[:, 1], 1)\n",
        "        _, target_lead_3 = torch.max(target[:, 2], 1)\n",
        "\n",
        "        correct_lead_1 += (predicted_lead_1 == target_lead_1).sum().item()\n",
        "        correct_lead_2 += (predicted_lead_2 == target_lead_2).sum().item()\n",
        "        correct_lead_3 += (predicted_lead_3 == target_lead_3).sum().item()\n",
        "\n",
        "# print the accuracy per lead in %\n",
        "print(f\"Accuracy Lead 1: {100 * correct_lead_1 / len(test_dataset):.2f}%\")\n",
        "print(f\"Accuracy Lead 2: {100 * correct_lead_2 / len(test_dataset):.2f}%\")\n",
        "print(f\"Accuracy Lead 3: {100 * correct_lead_3 / len(test_dataset):.2f}%\")"
      ]
    },
    {
      "cell_type": "markdown",
      "metadata": {
        "id": "1Q-ExMCN6Ycu"
      },
      "source": [
        "## Forecast with December 2023"
      ]
    },
    {
      "cell_type": "code",
      "execution_count": null,
      "metadata": {
        "id": "x3UkztyK6Ycu"
      },
      "outputs": [],
      "source": [
        "dec2023 = xr.open_dataset(\"data/ersst_anom_dec2023.nc\").ssta\n",
        "dec2023"
      ]
    },
    {
      "cell_type": "code",
      "execution_count": null,
      "metadata": {
        "id": "gzmEKWE36Ycu"
      },
      "outputs": [],
      "source": [
        "# evaluate the model on the dec2023 data\n",
        "model.eval()\n",
        "\n",
        "pred_input = torch.from_numpy(\n",
        "    dec2023.expand_dims(\"channel\")\n",
        "    .transpose(\"channel\", \"lat\", \"lon\")\n",
        "    .fillna(0)\n",
        "    .data.copy()\n",
        ")\n",
        "\n",
        "with torch.no_grad():\n",
        "    model_output = model(pred_input.unsqueeze(0))"
      ]
    },
    {
      "cell_type": "code",
      "execution_count": null,
      "metadata": {
        "id": "nLmd4aly6Ycu"
      },
      "outputs": [],
      "source": [
        "print(\"0: Neutral, 1: El Nino, 2: La Nina\")\n",
        "print(f\"Prediction for January 2024: {model_output[0].argmax()}\")\n",
        "print(f\"Prediction for February 2024: {model_output[1].argmax()}\")\n",
        "print(f\"Prediction for March 2024: {model_output[2].argmax()}\")"
      ]
    }
  ],
  "metadata": {
    "language_info": {
      "name": "python"
    },
    "colab": {
      "provenance": []
    }
  },
  "nbformat": 4,
  "nbformat_minor": 0
}
